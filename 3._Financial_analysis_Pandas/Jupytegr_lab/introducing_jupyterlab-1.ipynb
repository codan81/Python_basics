{
 "cells": [
  {
   "cell_type": "markdown",
   "metadata": {},
   "source": [
    "# Introducing JupyterLab\n",
    "\n",
    "This instructor-led activity is designed to build student confidence with regard to working in the JupyterLab interface. "
   ]
  },
  {
   "cell_type": "code",
   "execution_count": 2,
   "metadata": {},
   "outputs": [],
   "source": [
    "# A comment begins with a hashtag\n",
    "# Run this cell by hitting the \"single-play\" arrow icon\n",
    "num_1 = 3 \n",
    "num_2 = 7"
   ]
  },
  {
   "cell_type": "code",
   "execution_count": 3,
   "metadata": {},
   "outputs": [
    {
     "data": {
      "text/plain": [
       "10"
      ]
     },
     "execution_count": 3,
     "metadata": {},
     "output_type": "execute_result"
    }
   ],
   "source": [
    "# Create the variable\n",
    "sum = num_1 + num_2\n",
    "# Print the variable\n",
    "sum"
   ]
  },
  {
   "cell_type": "code",
   "execution_count": 4,
   "metadata": {},
   "outputs": [
    {
     "name": "stdout",
     "output_type": "stream",
     "text": [
      "10\n"
     ]
    }
   ],
   "source": [
    "# Content can also be printed using the print function\n",
    "print(num_1 + num_2)"
   ]
  },
  {
   "cell_type": "code",
   "execution_count": 9,
   "metadata": {},
   "outputs": [],
   "source": [
    "# A cell can be added with the \"+\" icon\n",
    "# Once a cell is added it can be a designated as a \"Code\" cell or a \"Markdown\" cell\n"
   ]
  },
  {
   "cell_type": "markdown",
   "metadata": {},
   "source": [
    "## Markdown Cells\n",
    "\n",
    "A Markdown cell is created by selecting the Markdown option from the dropdown menu associated with the Launcher menu. \n",
    "A Markdown cell allows you to use Markdown syntax to communicate insights via text.\n",
    "All markdown syntax works in a Markdown cell. "
   ]
  },
  {
   "cell_type": "code",
   "execution_count": 10,
   "metadata": {},
   "outputs": [],
   "source": [
    "# This cell can be removed with the scissors icon"
   ]
  },
  {
   "cell_type": "code",
   "execution_count": 11,
   "metadata": {},
   "outputs": [],
   "source": [
    "# Additional cell functionality is found under \"Edit\" on the Main Menu bar\n",
    "# This functionality includes moving cells up and down, splitting cells or merging cells"
   ]
  },
  {
   "cell_type": "code",
   "execution_count": 12,
   "metadata": {},
   "outputs": [],
   "source": [
    "banks_list = [\"Chase\", \"Fifth Third\", \"Wachovia\", \"Bank of America\"]"
   ]
  },
  {
   "cell_type": "code",
   "execution_count": 13,
   "metadata": {},
   "outputs": [],
   "source": [
    "# Cells must be run in order in order to variables to be put into memory correctly"
   ]
  },
  {
   "cell_type": "code",
   "execution_count": 15,
   "metadata": {},
   "outputs": [
    {
     "name": "stdout",
     "output_type": "stream",
     "text": [
      "the name of the bank in index position 0 is Chase\n",
      "the name of the bank in index position 1 is Fifth Third\n",
      "the name of the bank in index position 2 is Wachovia\n",
      "the name of the bank in index position 3 is Bank of America\n"
     ]
    }
   ],
   "source": [
    "# You can write functions and use f-strings\n",
    "i = 0 \n",
    "\n",
    "for banks in banks_list:\n",
    "    print(f\"the name of the bank in index position {i} is {banks}\")\n",
    "    i += 1"
   ]
  },
  {
   "cell_type": "code",
   "execution_count": 22,
   "metadata": {},
   "outputs": [],
   "source": [
    "# The entire notebook can be cleared and rerun from top to bottom\n",
    "# by selecting the \"double-play\" arrow icon. "
   ]
  }
 ],
 "metadata": {
  "interpreter": {
   "hash": "4396f389b93e7269692bd3bea4c62813bbe379469bde939b058805f538feec11"
  },
  "kernelspec": {
   "display_name": "Python 3.7.7 64-bit ('dev': conda)",
   "language": "python",
   "name": "python3"
  },
  "language_info": {
   "codemirror_mode": {
    "name": "ipython",
    "version": 3
   },
   "file_extension": ".py",
   "mimetype": "text/x-python",
   "name": "python",
   "nbconvert_exporter": "python",
   "pygments_lexer": "ipython3",
   "version": "3.7.10"
  }
 },
 "nbformat": 4,
 "nbformat_minor": 4
}
