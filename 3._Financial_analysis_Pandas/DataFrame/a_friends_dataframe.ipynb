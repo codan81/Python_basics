{
 "cells": [
  {
   "cell_type": "markdown",
   "metadata": {},
   "source": [
    "# A Friends DataFrame\n",
    "\n",
    "### Instructions\n",
    "\n",
    "#### Part 1: Initial Setup\n",
    "\n",
    "1. Ask each classmate in the breakout room the following:\n",
    "    * Their name.\n",
    "    * Their location.\n",
    "    * How many years of software experience they have.\n",
    "    * One technology they have experience with.\n",
    "\n",
    "2. Import the required libraries and dependencies into your Jupyter Notebook.\n",
    "\n",
    "#### Part 2: `Series` to `DataFrame`\n",
    "\n",
    "1. Create three dictionaries for the data collected.\n",
    "\n",
    "    * The keys for each dictionary are the names.\n",
    "    * The values for the first dictionary are the locations.\n",
    "    * The values for the second dictionary are the years of experience.\n",
    "    * The values for the third dictionary are the technology used.\n",
    "\n",
    "2. Convert each dictionary into a Pandas `Series`, storing each in its own variable.\n",
    "\n",
    "3. Create a Pandas `DataFrame` using the three `Series` as data.\n",
    "\n",
    "4. Transpose the resulting `DataFrame`.\n",
    "\n",
    "#### Part 3: `Dictionary` to `DataFrame`\n",
    "\n",
    "1. Create a single `dictionary` where the keys are your classmates' names and the other values are stored in a list.\n",
    "\n",
    "  For example:\n",
    "\n",
    "  ```python\n",
    "  my_classmates = {\n",
    "    \"Anna\": [\"London\",1,\"Java\"],\n",
    "    \"Mohammad\" : [\"Chicago\",0,\"Microsoft Office\"],\n",
    "  }\n",
    "  ```\n",
    "\n",
    "2. Create a Pandas DataFrame, using the my_classmates dictionary as the data. **Hint:** Use the `index` parameter and label the column names with [\"City\", \"Software Experience\", \"Technologies Used\"].\n",
    "\n",
    "3. Transpose the DataFrame.\n",
    "\n",
    "#### Part 4: Manipulate the `DataFrame`\n",
    "\n",
    "1. View the data in the `DataFrame`'s City column.\n",
    "\n",
    "2. Using the `mean` method, calculate the average years of software experience of the group.\n",
    "\n",
    "3. For one of your classmates, increase their years of software experience by 1 year.\n",
    "\n",
    "Be prepared to share some of your solutions with the class when you return from the breakout room.\n"
   ]
  },
  {
   "cell_type": "markdown",
   "metadata": {},
   "source": [
    "# Part 1: Initial Setup\n",
    "\n",
    "## Ask each classmate in the breakout room the following:\n",
    "\n",
    "* Their name.\n",
    "* Their location. \n",
    "* How many years of software experience they have.\n",
    "* One technology they have experience with. \n",
    "\n",
    "## Import the required libraries and dependencies."
   ]
  },
  {
   "cell_type": "code",
   "execution_count": 70,
   "metadata": {},
   "outputs": [],
   "source": [
    "# Import the Pandas library\n",
    "import pandas as pd"
   ]
  },
  {
   "cell_type": "markdown",
   "metadata": {},
   "source": [
    "# Part 2: `Series` to `DataFrame`"
   ]
  },
  {
   "cell_type": "markdown",
   "metadata": {},
   "source": [
    "## Create three dictionaries for the data collected from your classmates.\n",
    "\n",
    "* The keys for each dictionary are the names.\n",
    "* The values for the first dictionary are the locations.\n",
    "* The values for the second dictionary are the years of experience.\n",
    "* The values for the third dictionary are the technology used."
   ]
  },
  {
   "cell_type": "code",
   "execution_count": 71,
   "metadata": {},
   "outputs": [],
   "source": [
    "# Create three dictionaries with classmates' names as keys, location, years and tech as values.\n",
    "# YOUR CODE HERE\n",
    "classmate_city={\n",
    "    \"Israel\" : \"San_Diego\",\n",
    "    \"Dominik\" : \"Newport\",\n",
    "    \"Christina\" : \"Belmont\"\n",
    "    }\n",
    "\n",
    "# YOUR CODE HERE\n",
    "classmate_years={\n",
    "    \"Israel\":0,\n",
    "    \"Dominik\":1,\n",
    "    \"Christina\":2\n",
    "}\n",
    "\n",
    "# YOUR CODE HERE\n",
    "classmate_tech={\n",
    "    \"Israel\":\"python\",\n",
    "    \"Dominik\":\"C++\",\n",
    "    \"Christina\":\"java\"\n",
    "}"
   ]
  },
  {
   "cell_type": "markdown",
   "metadata": {},
   "source": [
    "## Convert each dictionary into a Pandas Series, storing each in its own variable.\n"
   ]
  },
  {
   "cell_type": "code",
   "execution_count": 72,
   "metadata": {},
   "outputs": [
    {
     "data": {
      "text/plain": [
       "Israel       python\n",
       "Dominik         C++\n",
       "Christina      java\n",
       "Name: Tech, dtype: object"
      ]
     },
     "execution_count": 72,
     "metadata": {},
     "output_type": "execute_result"
    }
   ],
   "source": [
    "# Create a series from each dictionary\n",
    "series_of_city = pd.Series(classmate_city, name=\"city\")\n",
    "series_of_years = pd.Series(classmate_years, name =\"years\")\n",
    "series_of_tech = pd.Series(classmate_tech, name = \"Tech\")\n",
    "\n",
    "# Preview one of the Series\n",
    "series_of_tech"
   ]
  },
  {
   "cell_type": "markdown",
   "metadata": {},
   "source": [
    "## Create a Pandas `DataFrame` using the three `Series` as data"
   ]
  },
  {
   "cell_type": "code",
   "execution_count": 73,
   "metadata": {},
   "outputs": [
    {
     "data": {
      "text/html": [
       "<div>\n",
       "<style scoped>\n",
       "    .dataframe tbody tr th:only-of-type {\n",
       "        vertical-align: middle;\n",
       "    }\n",
       "\n",
       "    .dataframe tbody tr th {\n",
       "        vertical-align: top;\n",
       "    }\n",
       "\n",
       "    .dataframe thead th {\n",
       "        text-align: right;\n",
       "    }\n",
       "</style>\n",
       "<table border=\"1\" class=\"dataframe\">\n",
       "  <thead>\n",
       "    <tr style=\"text-align: right;\">\n",
       "      <th></th>\n",
       "      <th>Israel</th>\n",
       "      <th>Dominik</th>\n",
       "      <th>Christina</th>\n",
       "    </tr>\n",
       "  </thead>\n",
       "  <tbody>\n",
       "    <tr>\n",
       "      <th>0</th>\n",
       "      <td>San_Diego</td>\n",
       "      <td>Newport</td>\n",
       "      <td>Belmont</td>\n",
       "    </tr>\n",
       "    <tr>\n",
       "      <th>1</th>\n",
       "      <td>0</td>\n",
       "      <td>1</td>\n",
       "      <td>2</td>\n",
       "    </tr>\n",
       "    <tr>\n",
       "      <th>2</th>\n",
       "      <td>python</td>\n",
       "      <td>C++</td>\n",
       "      <td>java</td>\n",
       "    </tr>\n",
       "  </tbody>\n",
       "</table>\n",
       "</div>"
      ],
      "text/plain": [
       "      Israel  Dominik Christina\n",
       "0  San_Diego  Newport   Belmont\n",
       "1          0        1         2\n",
       "2     python      C++      java"
      ]
     },
     "execution_count": 73,
     "metadata": {},
     "output_type": "execute_result"
    }
   ],
   "source": [
    "# Create DataFrame from the three Series\n",
    "# Hint: Pass them as a list to the data parameter\n",
    "series_to_dataframe = pd.DataFrame([classmate_city, classmate_years, classmate_tech])\n",
    "\n",
    "# View the resulting DataFrame\n",
    "series_to_dataframe"
   ]
  },
  {
   "cell_type": "markdown",
   "metadata": {},
   "source": [
    "## Transpose the resulting `DataFrame`."
   ]
  },
  {
   "cell_type": "code",
   "execution_count": 74,
   "metadata": {},
   "outputs": [
    {
     "data": {
      "text/html": [
       "<div>\n",
       "<style scoped>\n",
       "    .dataframe tbody tr th:only-of-type {\n",
       "        vertical-align: middle;\n",
       "    }\n",
       "\n",
       "    .dataframe tbody tr th {\n",
       "        vertical-align: top;\n",
       "    }\n",
       "\n",
       "    .dataframe thead th {\n",
       "        text-align: right;\n",
       "    }\n",
       "</style>\n",
       "<table border=\"1\" class=\"dataframe\">\n",
       "  <thead>\n",
       "    <tr style=\"text-align: right;\">\n",
       "      <th></th>\n",
       "      <th>0</th>\n",
       "      <th>1</th>\n",
       "      <th>2</th>\n",
       "    </tr>\n",
       "  </thead>\n",
       "  <tbody>\n",
       "    <tr>\n",
       "      <th>Israel</th>\n",
       "      <td>San_Diego</td>\n",
       "      <td>0</td>\n",
       "      <td>python</td>\n",
       "    </tr>\n",
       "    <tr>\n",
       "      <th>Dominik</th>\n",
       "      <td>Newport</td>\n",
       "      <td>1</td>\n",
       "      <td>C++</td>\n",
       "    </tr>\n",
       "    <tr>\n",
       "      <th>Christina</th>\n",
       "      <td>Belmont</td>\n",
       "      <td>2</td>\n",
       "      <td>java</td>\n",
       "    </tr>\n",
       "  </tbody>\n",
       "</table>\n",
       "</div>"
      ],
      "text/plain": [
       "                   0  1       2\n",
       "Israel     San_Diego  0  python\n",
       "Dominik      Newport  1     C++\n",
       "Christina    Belmont  2    java"
      ]
     },
     "execution_count": 74,
     "metadata": {},
     "output_type": "execute_result"
    }
   ],
   "source": [
    "# Transpose DataFrame \n",
    "series_to_dataframe = series_to_dataframe.T\n",
    "\n",
    "# View the transposed DataFrame\n",
    "series_to_dataframe"
   ]
  },
  {
   "cell_type": "markdown",
   "metadata": {},
   "source": [
    "# Part 3: `Dictionary` to `DataFrame`"
   ]
  },
  {
   "cell_type": "markdown",
   "metadata": {},
   "source": [
    "## Create a single `dictionary` containing the data previously collected from your classmates.\n",
    "\n",
    "* The keys for the dictionary are your classmates' names.\n",
    "* The values for the dictionary are the remaining data in list format.\n",
    "* For example:\n",
    "\n",
    "\n",
    "```python\n",
    "my_classmates = {\n",
    "  \"Anna\": [\"London\",1,\"Java\"],\n",
    "  \"Mohammad\" : [\"Chicago\",0,\"Microsoft Office\"],\n",
    "}\n",
    "```"
   ]
  },
  {
   "cell_type": "code",
   "execution_count": 75,
   "metadata": {},
   "outputs": [],
   "source": [
    "# Create Dictionary\n",
    "my_classmates = {\n",
    "  \"Israel\": [\"San Diego\",1,\"python\"],\n",
    "  \"Dominik\" : [\"Newport\",1,\"C++\"],\n",
    "  \"Christina\" : [\"Belmont\",2,\"java\"],\n",
    "  \n",
    "}"
   ]
  },
  {
   "cell_type": "markdown",
   "metadata": {},
   "source": [
    "## Create a Pandas `DataFrame` using the my_classmates dictionary as the data."
   ]
  },
  {
   "cell_type": "code",
   "execution_count": 76,
   "metadata": {},
   "outputs": [
    {
     "data": {
      "text/html": [
       "<div>\n",
       "<style scoped>\n",
       "    .dataframe tbody tr th:only-of-type {\n",
       "        vertical-align: middle;\n",
       "    }\n",
       "\n",
       "    .dataframe tbody tr th {\n",
       "        vertical-align: top;\n",
       "    }\n",
       "\n",
       "    .dataframe thead th {\n",
       "        text-align: right;\n",
       "    }\n",
       "</style>\n",
       "<table border=\"1\" class=\"dataframe\">\n",
       "  <thead>\n",
       "    <tr style=\"text-align: right;\">\n",
       "      <th></th>\n",
       "      <th>Israel</th>\n",
       "      <th>Dominik</th>\n",
       "      <th>Christina</th>\n",
       "    </tr>\n",
       "  </thead>\n",
       "  <tbody>\n",
       "    <tr>\n",
       "      <th>0</th>\n",
       "      <td>San Diego</td>\n",
       "      <td>Newport</td>\n",
       "      <td>Belmont</td>\n",
       "    </tr>\n",
       "    <tr>\n",
       "      <th>1</th>\n",
       "      <td>1</td>\n",
       "      <td>1</td>\n",
       "      <td>2</td>\n",
       "    </tr>\n",
       "    <tr>\n",
       "      <th>2</th>\n",
       "      <td>python</td>\n",
       "      <td>C++</td>\n",
       "      <td>java</td>\n",
       "    </tr>\n",
       "  </tbody>\n",
       "</table>\n",
       "</div>"
      ],
      "text/plain": [
       "      Israel  Dominik Christina\n",
       "0  San Diego  Newport   Belmont\n",
       "1          1        1         2\n",
       "2     python      C++      java"
      ]
     },
     "execution_count": 76,
     "metadata": {},
     "output_type": "execute_result"
    }
   ],
   "source": [
    "# Create DataFrame from the my_classmates dictionary\n",
    "# Hint - Use the `index` parameter and label the \n",
    "# column names with [\"City\", \"Software Experience\", \"Technologies Used\"]\n",
    "my_classmates_df = pd.DataFrame(my_classmates)\n",
    "\n",
    "\n",
    "# View the resulting DataFrame\n",
    "my_classmates_df"
   ]
  },
  {
   "cell_type": "markdown",
   "metadata": {},
   "source": [
    "## Transpose the `DataFrame`."
   ]
  },
  {
   "cell_type": "code",
   "execution_count": 77,
   "metadata": {},
   "outputs": [
    {
     "data": {
      "text/html": [
       "<div>\n",
       "<style scoped>\n",
       "    .dataframe tbody tr th:only-of-type {\n",
       "        vertical-align: middle;\n",
       "    }\n",
       "\n",
       "    .dataframe tbody tr th {\n",
       "        vertical-align: top;\n",
       "    }\n",
       "\n",
       "    .dataframe thead th {\n",
       "        text-align: right;\n",
       "    }\n",
       "</style>\n",
       "<table border=\"1\" class=\"dataframe\">\n",
       "  <thead>\n",
       "    <tr style=\"text-align: right;\">\n",
       "      <th></th>\n",
       "      <th>0</th>\n",
       "      <th>1</th>\n",
       "      <th>2</th>\n",
       "    </tr>\n",
       "  </thead>\n",
       "  <tbody>\n",
       "    <tr>\n",
       "      <th>Israel</th>\n",
       "      <td>San Diego</td>\n",
       "      <td>1</td>\n",
       "      <td>python</td>\n",
       "    </tr>\n",
       "    <tr>\n",
       "      <th>Dominik</th>\n",
       "      <td>Newport</td>\n",
       "      <td>1</td>\n",
       "      <td>C++</td>\n",
       "    </tr>\n",
       "    <tr>\n",
       "      <th>Christina</th>\n",
       "      <td>Belmont</td>\n",
       "      <td>2</td>\n",
       "      <td>java</td>\n",
       "    </tr>\n",
       "  </tbody>\n",
       "</table>\n",
       "</div>"
      ],
      "text/plain": [
       "                   0  1       2\n",
       "Israel     San Diego  1  python\n",
       "Dominik      Newport  1     C++\n",
       "Christina    Belmont  2    java"
      ]
     },
     "execution_count": 77,
     "metadata": {},
     "output_type": "execute_result"
    }
   ],
   "source": [
    "# Transpose DataFrame \n",
    "my_classmates_df = my_classmates_df.T\n",
    "\n",
    "# View the transposed DataFrame\n",
    "my_classmates_df"
   ]
  },
  {
   "cell_type": "code",
   "execution_count": 78,
   "metadata": {},
   "outputs": [
    {
     "data": {
      "text/html": [
       "<div>\n",
       "<style scoped>\n",
       "    .dataframe tbody tr th:only-of-type {\n",
       "        vertical-align: middle;\n",
       "    }\n",
       "\n",
       "    .dataframe tbody tr th {\n",
       "        vertical-align: top;\n",
       "    }\n",
       "\n",
       "    .dataframe thead th {\n",
       "        text-align: right;\n",
       "    }\n",
       "</style>\n",
       "<table border=\"1\" class=\"dataframe\">\n",
       "  <thead>\n",
       "    <tr style=\"text-align: right;\">\n",
       "      <th></th>\n",
       "      <th>City</th>\n",
       "      <th>Software experience</th>\n",
       "      <th>Technologies</th>\n",
       "    </tr>\n",
       "  </thead>\n",
       "  <tbody>\n",
       "    <tr>\n",
       "      <th>Israel</th>\n",
       "      <td>San Diego</td>\n",
       "      <td>1</td>\n",
       "      <td>python</td>\n",
       "    </tr>\n",
       "    <tr>\n",
       "      <th>Dominik</th>\n",
       "      <td>Newport</td>\n",
       "      <td>1</td>\n",
       "      <td>C++</td>\n",
       "    </tr>\n",
       "    <tr>\n",
       "      <th>Christina</th>\n",
       "      <td>Belmont</td>\n",
       "      <td>2</td>\n",
       "      <td>java</td>\n",
       "    </tr>\n",
       "  </tbody>\n",
       "</table>\n",
       "</div>"
      ],
      "text/plain": [
       "                City Software experience Technologies\n",
       "Israel     San Diego                   1       python\n",
       "Dominik      Newport                   1          C++\n",
       "Christina    Belmont                   2         java"
      ]
     },
     "execution_count": 78,
     "metadata": {},
     "output_type": "execute_result"
    }
   ],
   "source": [
    "# Rename the columns\n",
    "my_classmates_df = my_classmates_df.rename(columns= {0: \"City\", 1: \"Software experience\", 2: \"Technologies\"})\n",
    "# View the DataFrame\n",
    "my_classmates_df"
   ]
  },
  {
   "cell_type": "code",
   "execution_count": 79,
   "metadata": {},
   "outputs": [
    {
     "data": {
      "text/html": [
       "<div>\n",
       "<style scoped>\n",
       "    .dataframe tbody tr th:only-of-type {\n",
       "        vertical-align: middle;\n",
       "    }\n",
       "\n",
       "    .dataframe tbody tr th {\n",
       "        vertical-align: top;\n",
       "    }\n",
       "\n",
       "    .dataframe thead th {\n",
       "        text-align: right;\n",
       "    }\n",
       "</style>\n",
       "<table border=\"1\" class=\"dataframe\">\n",
       "  <thead>\n",
       "    <tr style=\"text-align: right;\">\n",
       "      <th>Name</th>\n",
       "      <th>City</th>\n",
       "      <th>Software experience</th>\n",
       "      <th>Technologies</th>\n",
       "    </tr>\n",
       "  </thead>\n",
       "  <tbody>\n",
       "    <tr>\n",
       "      <th>Israel</th>\n",
       "      <td>San Diego</td>\n",
       "      <td>1</td>\n",
       "      <td>python</td>\n",
       "    </tr>\n",
       "    <tr>\n",
       "      <th>Dominik</th>\n",
       "      <td>Newport</td>\n",
       "      <td>1</td>\n",
       "      <td>C++</td>\n",
       "    </tr>\n",
       "    <tr>\n",
       "      <th>Christina</th>\n",
       "      <td>Belmont</td>\n",
       "      <td>2</td>\n",
       "      <td>java</td>\n",
       "    </tr>\n",
       "  </tbody>\n",
       "</table>\n",
       "</div>"
      ],
      "text/plain": [
       "Name            City Software experience Technologies\n",
       "Israel     San Diego                   1       python\n",
       "Dominik      Newport                   1          C++\n",
       "Christina    Belmont                   2         java"
      ]
     },
     "execution_count": 79,
     "metadata": {},
     "output_type": "execute_result"
    }
   ],
   "source": [
    "# Rename the axis(1)\n",
    "my_classmates_df = my_classmates_df.rename_axis(\"Name\", axis=1) \n",
    "my_classmates_df"
   ]
  },
  {
   "cell_type": "markdown",
   "metadata": {},
   "source": [
    "# Part 4: Manipulate the `DataFrame`"
   ]
  },
  {
   "cell_type": "markdown",
   "metadata": {},
   "source": [
    "## View the data in the `DataFrame`'s 'City' column. "
   ]
  },
  {
   "cell_type": "code",
   "execution_count": 83,
   "metadata": {},
   "outputs": [
    {
     "data": {
      "text/plain": [
       "Israel       San Diego\n",
       "Dominik        Newport\n",
       "Christina      Belmont\n",
       "Name: City, dtype: object"
      ]
     },
     "execution_count": 83,
     "metadata": {},
     "output_type": "execute_result"
    }
   ],
   "source": [
    "# View the entries in the DataFrame's \"City\" column\n",
    "#print(my_classmates_df[\"City\"])\n",
    "my_classmates_df[\"City\"]"
   ]
  },
  {
   "cell_type": "markdown",
   "metadata": {},
   "source": [
    "## Using the `mean()` method, calculate the average years of software experience of the group."
   ]
  },
  {
   "cell_type": "code",
   "execution_count": 88,
   "metadata": {},
   "outputs": [
    {
     "data": {
      "text/plain": [
       "1.3333333333333333"
      ]
     },
     "execution_count": 88,
     "metadata": {},
     "output_type": "execute_result"
    }
   ],
   "source": [
    "# Calculate mean value of the group's software experience\n",
    "my_classmates_df[\"Software experience\"].mean()"
   ]
  },
  {
   "cell_type": "markdown",
   "metadata": {},
   "source": [
    "## For one of your classmates, increase their years of software experience by 1 year. "
   ]
  },
  {
   "cell_type": "code",
   "execution_count": 90,
   "metadata": {},
   "outputs": [
    {
     "data": {
      "text/html": [
       "<div>\n",
       "<style scoped>\n",
       "    .dataframe tbody tr th:only-of-type {\n",
       "        vertical-align: middle;\n",
       "    }\n",
       "\n",
       "    .dataframe tbody tr th {\n",
       "        vertical-align: top;\n",
       "    }\n",
       "\n",
       "    .dataframe thead th {\n",
       "        text-align: right;\n",
       "    }\n",
       "</style>\n",
       "<table border=\"1\" class=\"dataframe\">\n",
       "  <thead>\n",
       "    <tr style=\"text-align: right;\">\n",
       "      <th>Name</th>\n",
       "      <th>City</th>\n",
       "      <th>Software experience</th>\n",
       "      <th>Technologies</th>\n",
       "    </tr>\n",
       "  </thead>\n",
       "  <tbody>\n",
       "    <tr>\n",
       "      <th>Israel</th>\n",
       "      <td>San Diego</td>\n",
       "      <td>2</td>\n",
       "      <td>python</td>\n",
       "    </tr>\n",
       "    <tr>\n",
       "      <th>Dominik</th>\n",
       "      <td>Newport</td>\n",
       "      <td>1</td>\n",
       "      <td>C++</td>\n",
       "    </tr>\n",
       "    <tr>\n",
       "      <th>Christina</th>\n",
       "      <td>Belmont</td>\n",
       "      <td>2</td>\n",
       "      <td>java</td>\n",
       "    </tr>\n",
       "  </tbody>\n",
       "</table>\n",
       "</div>"
      ],
      "text/plain": [
       "Name            City Software experience Technologies\n",
       "Israel     San Diego                   2       python\n",
       "Dominik      Newport                   1          C++\n",
       "Christina    Belmont                   2         java"
      ]
     },
     "execution_count": 90,
     "metadata": {},
     "output_type": "execute_result"
    }
   ],
   "source": [
    "# For one of your classmates, increase their years of software experience by 1 year. \n",
    "my_classmates_df[\"Software experience\"][0]=2\n",
    "# Confirm that the change has been made by viewing the DataFrame\n",
    "my_classmates_df"
   ]
  },
  {
   "cell_type": "code",
   "execution_count": null,
   "metadata": {},
   "outputs": [],
   "source": []
  }
 ],
 "metadata": {
  "kernelspec": {
   "display_name": "Python 3",
   "language": "python",
   "name": "python3"
  },
  "language_info": {
   "codemirror_mode": {
    "name": "ipython",
    "version": 3
   },
   "file_extension": ".py",
   "mimetype": "text/x-python",
   "name": "python",
   "nbconvert_exporter": "python",
   "pygments_lexer": "ipython3",
   "version": "3.7.10"
  }
 },
 "nbformat": 4,
 "nbformat_minor": 4
}
